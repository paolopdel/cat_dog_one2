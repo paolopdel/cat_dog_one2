{
  "nbformat": 4,
  "nbformat_minor": 0,
  "metadata": {
    "kernelspec": {
      "name": "python3",
      "display_name": "Python 3"
    },
    "language_info": {
      "codemirror_mode": {
        "name": "ipython",
        "version": 3
      },
      "file_extension": ".py",
      "mimetype": "text/x-python",
      "name": "python",
      "nbconvert_exporter": "python",
      "pygments_lexer": "ipython3",
      "version": "3.7.4"
    },
    "colab": {
      "name": "cat_dog_one2.ipynb",
      "provenance": [],
      "collapsed_sections": [],
      "include_colab_link": true
    },
    "accelerator": "GPU"
  },
  "cells": [
    {
      "cell_type": "markdown",
      "metadata": {
        "id": "view-in-github",
        "colab_type": "text"
      },
      "source": [
        "<a href=\"https://colab.research.google.com/github/paolopdel/cat_dog_one2/blob/change-code/cat_dog_one2.ipynb\" target=\"_parent\"><img src=\"https://colab.research.google.com/assets/colab-badge.svg\" alt=\"Open In Colab\"/></a>"
      ]
    },
    {
      "cell_type": "code",
      "metadata": {
        "id": "cSt3Mie_Ic0r",
        "colab_type": "code",
        "colab": {}
      },
      "source": [
        "%matplotlib inline\n",
        "%config InlineBackend.figure_format = 'retina'\n",
        "\n",
        "import matplotlib.pyplot as plt\n",
        "\n",
        "import torch\n",
        "from torch import nn\n",
        "from torch import optim\n",
        "import torch.nn.functional as F\n",
        "from torchvision import datasets, transforms, models"
      ],
      "execution_count": 0,
      "outputs": []
    },
    {
      "cell_type": "code",
      "metadata": {
        "id": "AFE7BQKl8u8F",
        "colab_type": "code",
        "colab": {}
      },
      "source": [
        "!wget https://s3.amazonaws.com/content.udacity-data.com/nd089/Cat_Dog_data.zip"
      ],
      "execution_count": 0,
      "outputs": []
    },
    {
      "cell_type": "code",
      "metadata": {
        "id": "PZ3wVnaz86eY",
        "colab_type": "code",
        "colab": {}
      },
      "source": [
        "!unzip Cat_Dog_data.zip"
      ],
      "execution_count": 0,
      "outputs": []
    },
    {
      "cell_type": "code",
      "metadata": {
        "id": "zKcplozfIc1w",
        "colab_type": "code",
        "outputId": "60730ffe-cf93-45a5-8a51-d91699800f33",
        "colab": {
          "base_uri": "https://localhost:8080/",
          "height": 72
        }
      },
      "source": [
        "data_dir = 'Cat_Dog_data'\n",
        "\n",
        "# TODO: Define transforms for the training data and testing data\n",
        "train_transforms = transforms.Compose([transforms.RandomRotation(30),\n",
        "                                       transforms.RandomResizedCrop(224),\n",
        "                                       transforms.RandomHorizontalFlip(),\n",
        "                                       transforms.ToTensor(),\n",
        "                                       transforms.Normalize([0.485, 0.456, 0.406],\n",
        "                                                            [0.229, 0.224, 0.225])])\n",
        "\n",
        "test_transforms = transforms.Compose([transforms.Resize(255),\n",
        "                                      transforms.CenterCrop(224),\n",
        "                                      transforms.ToTensor(),\n",
        "                                      transforms.Normalize([0.485, 0.456, 0.406],\n",
        "                                                           [0.229, 0.224, 0.225])])\n",
        "\n",
        "# Pass transforms in here, then run the next cell to see how the transforms look\n",
        "train_data = datasets.ImageFolder(data_dir + '/train', transform=train_transforms)\n",
        "test_data = datasets.ImageFolder(data_dir + '/test', transform=test_transforms)\n",
        "one_data = datasets.ImageFolder(data_dir + '/one', transform=train_transforms)\n",
        "#create a directory under content/Cat_Dog_data ,  'one', create s ubdirectory 'cat'\n",
        "#insert a jpeg photo of a cat\n",
        "trainloader = torch.utils.data.DataLoader(train_data, batch_size=64, shuffle=True)\n",
        "testloader = torch.utils.data.DataLoader(test_data, batch_size=64)\n",
        "oneloader = torch.utils.data.DataLoader(one_data, batch_size=1)\n",
        "\n",
        "print(one_data[0][1])\n",
        "print(train_data[22000][1])\n",
        "print(test_data[2400][1])\n",
        "#the Cat_Dog_data / train / test / cat directory is called 0\n",
        "#the Cat_Dog_data / train / test / dog directory is called 1\n",
        "#the Cat_Dog_data / one / cat directory is called 1"
      ],
      "execution_count": 0,
      "outputs": [
        {
          "output_type": "stream",
          "text": [
            "1\n",
            "1\n",
            "1\n"
          ],
          "name": "stdout"
        }
      ]
    },
    {
      "cell_type": "code",
      "metadata": {
        "id": "CzYDwmhnIc3A",
        "colab_type": "code",
        "colab": {}
      },
      "source": [
        "model = models.densenet121(pretrained=True)\n",
        "model"
      ],
      "execution_count": 0,
      "outputs": []
    },
    {
      "cell_type": "code",
      "metadata": {
        "id": "OSEo2VvzIc4Z",
        "colab_type": "code",
        "colab": {}
      },
      "source": [
        "# Use GPU if it's available\n",
        "device = torch.device(\"cuda\" if torch.cuda.is_available() else \"cpu\")\n",
        "\n",
        "model = models.densenet121(pretrained=True)\n",
        "\n",
        "# Freeze parameters so we don't backprop through them\n",
        "for param in model.parameters():\n",
        "    param.requires_grad = False\n",
        "    \n",
        "model.classifier = nn.Sequential(nn.Linear(1024, 256),\n",
        "                                 nn.ReLU(),\n",
        "                                 nn.Dropout(0.2),\n",
        "                                 nn.Linear(256, 2),\n",
        "                                 nn.LogSoftmax(dim=1))\n",
        "\n",
        "criterion = nn.NLLLoss()\n",
        "\n",
        "# Only train the classifier parameters, feature parameters are frozen\n",
        "optimizer = optim.Adam(model.classifier.parameters(), lr=0.003)\n",
        "\n",
        "model.to(device)"
      ],
      "execution_count": 0,
      "outputs": []
    },
    {
      "cell_type": "code",
      "metadata": {
        "id": "jJlkYjpaA5Or",
        "colab_type": "code",
        "colab": {}
      },
      "source": [
        "epochs = 1\n",
        "steps = 0\n",
        "running_loss = 0\n",
        "print_every = 5\n",
        "for epoch in range(epochs):\n",
        "    for inputs, labels in trainloader:\n",
        "        steps += 1\n",
        "        # Move input and label tensors to the default device\n",
        "        inputs, labels = inputs.to(device), labels.to(device)\n",
        "\n",
        "        #print(inputs.shape)\n",
        "        #print(labels.shape)\n",
        "        optimizer.zero_grad()\n",
        "        \n",
        "        logps = model.forward(inputs)\n",
        "        loss = criterion(logps, labels)\n",
        "        loss.backward()\n",
        "        optimizer.step()\n",
        "        #print(inputs[0],labels[0])\n",
        "        #print(loss.item())\n",
        "        running_loss += loss.item()\n",
        "\n",
        "        \n",
        "        #if steps % print_every == 0:\n",
        "        test_loss = 0\n",
        "        accuracy = 0\n",
        "        model.eval()\n",
        "        with torch.no_grad():\n",
        "                for inputs, labels in oneloader:\n",
        "                    labels=labels-1\n",
        "                    #here as the Cat_Dog_data/one/cat directory is called 1, \n",
        "                    # it must become 0 as the Cat_Dog_data/train/cat directory\n",
        "                    inputs, labels = inputs.to(device), labels.to(device)\n",
        "                    logps = model.forward(inputs)\n",
        "                    batch_loss = criterion(logps, labels)\n",
        "                    \n",
        "                    one_loss = batch_loss.item()\n",
        "                    #one_loss = batch_loss\n",
        "                    # Calculate accuracy\n",
        "                    #ps = torch.exp(logps)\n",
        "                    #top_p, top_class = ps.topk(1, dim=1)\n",
        "                    #equals = top_class == labels.view(*top_class.shape)\n",
        "                    #accuracy += torch.mean(equals.type(torch.FloatTensor)).item()\n",
        "                    \n",
        "        print(f\"Epoch {epoch+1}/{epochs}.. \"\n",
        "                  f\"Train loss: {running_loss/print_every:.3f}.. \"\n",
        "                  f\"Test loss: {test_loss/len(testloader):.3f}.. \"\n",
        "                  f\"Test loss: {one_loss/len(testloader):.3f}.. \"\n",
        "                  f\"One loss: {one_loss:.3f}.. \"\n",
        "                  f\"Test accuracy: {accuracy/len(oneloader):.3f}\")\n",
        "        running_loss = 0\n",
        "        model.train()\n",
        "#print(inputs.shape)\n",
        "# when I run the code, if I put the photo of 1 cat in the Cat_Dog_data / one / cat directory \n",
        "# I get one_loss close to zero.\n",
        "# If instead I put a photo of a dog in the same directory I get one_loss greater than 1.\n"
      ],
      "execution_count": 0,
      "outputs": []
    }
  ]
}